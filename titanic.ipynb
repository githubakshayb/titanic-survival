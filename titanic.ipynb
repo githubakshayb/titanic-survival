{
 "cells": [
  {
   "cell_type": "markdown",
   "id": "2266b7af-7b71-420d-8898-55d83dcbfe2e",
   "metadata": {},
   "source": [
    "The sinking of the Titanic is one of the most infamous shipwrecks in history. On April 15, 1912, during her maiden voyage, the widely considered unsinkable RMS Titanic sank after colliding with an iceberg. Unfortunately, there weren’t enough lifeboats for everyone onboard, resulting in the death of 1502 out of 2224 passengers and crew. While there was some element of luck involved in surviving, it seems some groups of people were more likely to survive than others. In this challenge, we ask you to build a predictive model that answers the question: “what sorts of people were more likely to survive?” using passenger data (ie name, age, gender, socio-economic class, etc).<br><br>\n"
   ]
  },
  {
   "cell_type": "code",
   "execution_count": 1,
   "id": "974ff11b-90ff-4817-ba2f-d87c8eca6b48",
   "metadata": {},
   "outputs": [
    {
     "name": "stdout",
     "output_type": "stream",
     "text": [
      "WARNING:tensorflow:From C:\\Users\\Admin\\AppData\\Local\\Programs\\Python\\Python311\\Lib\\site-packages\\keras\\src\\losses.py:2976: The name tf.losses.sparse_softmax_cross_entropy is deprecated. Please use tf.compat.v1.losses.sparse_softmax_cross_entropy instead.\n",
      "\n"
     ]
    }
   ],
   "source": [
    "import pandas as pd\n",
    "import numpy as np\n",
    "import seaborn as sns\n",
    "import matplotlib.pyplot as plt\n",
    "import tensorflow as tf\n",
    "from sklearn.model_selection import train_test_split\n",
    "from sklearn.preprocessing import StandardScaler"
   ]
  },
  {
   "cell_type": "code",
   "execution_count": 2,
   "id": "38e512b2-cb77-41e1-8739-2f8bf4660a73",
   "metadata": {},
   "outputs": [],
   "source": [
    "# Load the Titanic datasets\n",
    "train = pd.read_csv(\"train.csv\")\n",
    "test = pd.read_csv(\"test.csv\")\n",
    "ss = pd.read_csv(\"gender_submission.csv\")"
   ]
  },
  {
   "cell_type": "code",
   "execution_count": 3,
   "id": "de39dc3b-d511-47c5-8362-63693f9c49f1",
   "metadata": {},
   "outputs": [
    {
     "data": {
      "text/html": [
       "<div>\n",
       "<style scoped>\n",
       "    .dataframe tbody tr th:only-of-type {\n",
       "        vertical-align: middle;\n",
       "    }\n",
       "\n",
       "    .dataframe tbody tr th {\n",
       "        vertical-align: top;\n",
       "    }\n",
       "\n",
       "    .dataframe thead th {\n",
       "        text-align: right;\n",
       "    }\n",
       "</style>\n",
       "<table border=\"1\" class=\"dataframe\">\n",
       "  <thead>\n",
       "    <tr style=\"text-align: right;\">\n",
       "      <th></th>\n",
       "      <th>PassengerId</th>\n",
       "      <th>Survived</th>\n",
       "      <th>Pclass</th>\n",
       "      <th>Name</th>\n",
       "      <th>Sex</th>\n",
       "      <th>Age</th>\n",
       "      <th>SibSp</th>\n",
       "      <th>Parch</th>\n",
       "      <th>Ticket</th>\n",
       "      <th>Fare</th>\n",
       "      <th>Cabin</th>\n",
       "      <th>Embarked</th>\n",
       "    </tr>\n",
       "  </thead>\n",
       "  <tbody>\n",
       "    <tr>\n",
       "      <th>0</th>\n",
       "      <td>1</td>\n",
       "      <td>0</td>\n",
       "      <td>3</td>\n",
       "      <td>Braund, Mr. Owen Harris</td>\n",
       "      <td>male</td>\n",
       "      <td>22.0</td>\n",
       "      <td>1</td>\n",
       "      <td>0</td>\n",
       "      <td>A/5 21171</td>\n",
       "      <td>7.2500</td>\n",
       "      <td>NaN</td>\n",
       "      <td>S</td>\n",
       "    </tr>\n",
       "    <tr>\n",
       "      <th>1</th>\n",
       "      <td>2</td>\n",
       "      <td>1</td>\n",
       "      <td>1</td>\n",
       "      <td>Cumings, Mrs. John Bradley (Florence Briggs Th...</td>\n",
       "      <td>female</td>\n",
       "      <td>38.0</td>\n",
       "      <td>1</td>\n",
       "      <td>0</td>\n",
       "      <td>PC 17599</td>\n",
       "      <td>71.2833</td>\n",
       "      <td>C85</td>\n",
       "      <td>C</td>\n",
       "    </tr>\n",
       "    <tr>\n",
       "      <th>2</th>\n",
       "      <td>3</td>\n",
       "      <td>1</td>\n",
       "      <td>3</td>\n",
       "      <td>Heikkinen, Miss. Laina</td>\n",
       "      <td>female</td>\n",
       "      <td>26.0</td>\n",
       "      <td>0</td>\n",
       "      <td>0</td>\n",
       "      <td>STON/O2. 3101282</td>\n",
       "      <td>7.9250</td>\n",
       "      <td>NaN</td>\n",
       "      <td>S</td>\n",
       "    </tr>\n",
       "    <tr>\n",
       "      <th>3</th>\n",
       "      <td>4</td>\n",
       "      <td>1</td>\n",
       "      <td>1</td>\n",
       "      <td>Futrelle, Mrs. Jacques Heath (Lily May Peel)</td>\n",
       "      <td>female</td>\n",
       "      <td>35.0</td>\n",
       "      <td>1</td>\n",
       "      <td>0</td>\n",
       "      <td>113803</td>\n",
       "      <td>53.1000</td>\n",
       "      <td>C123</td>\n",
       "      <td>S</td>\n",
       "    </tr>\n",
       "    <tr>\n",
       "      <th>4</th>\n",
       "      <td>5</td>\n",
       "      <td>0</td>\n",
       "      <td>3</td>\n",
       "      <td>Allen, Mr. William Henry</td>\n",
       "      <td>male</td>\n",
       "      <td>35.0</td>\n",
       "      <td>0</td>\n",
       "      <td>0</td>\n",
       "      <td>373450</td>\n",
       "      <td>8.0500</td>\n",
       "      <td>NaN</td>\n",
       "      <td>S</td>\n",
       "    </tr>\n",
       "  </tbody>\n",
       "</table>\n",
       "</div>"
      ],
      "text/plain": [
       "   PassengerId  Survived  Pclass  \\\n",
       "0            1         0       3   \n",
       "1            2         1       1   \n",
       "2            3         1       3   \n",
       "3            4         1       1   \n",
       "4            5         0       3   \n",
       "\n",
       "                                                Name     Sex   Age  SibSp  \\\n",
       "0                            Braund, Mr. Owen Harris    male  22.0      1   \n",
       "1  Cumings, Mrs. John Bradley (Florence Briggs Th...  female  38.0      1   \n",
       "2                             Heikkinen, Miss. Laina  female  26.0      0   \n",
       "3       Futrelle, Mrs. Jacques Heath (Lily May Peel)  female  35.0      1   \n",
       "4                           Allen, Mr. William Henry    male  35.0      0   \n",
       "\n",
       "   Parch            Ticket     Fare Cabin Embarked  \n",
       "0      0         A/5 21171   7.2500   NaN        S  \n",
       "1      0          PC 17599  71.2833   C85        C  \n",
       "2      0  STON/O2. 3101282   7.9250   NaN        S  \n",
       "3      0            113803  53.1000  C123        S  \n",
       "4      0            373450   8.0500   NaN        S  "
      ]
     },
     "execution_count": 3,
     "metadata": {},
     "output_type": "execute_result"
    }
   ],
   "source": [
    "train.head() #'PassengerId', 'Name', 'Ticket', 'Cabin'"
   ]
  },
  {
   "cell_type": "code",
   "execution_count": 4,
   "id": "85be9ec8-cfce-4a76-b3d1-5c53f27b0ae3",
   "metadata": {},
   "outputs": [
    {
     "data": {
      "text/html": [
       "<div>\n",
       "<style scoped>\n",
       "    .dataframe tbody tr th:only-of-type {\n",
       "        vertical-align: middle;\n",
       "    }\n",
       "\n",
       "    .dataframe tbody tr th {\n",
       "        vertical-align: top;\n",
       "    }\n",
       "\n",
       "    .dataframe thead th {\n",
       "        text-align: right;\n",
       "    }\n",
       "</style>\n",
       "<table border=\"1\" class=\"dataframe\">\n",
       "  <thead>\n",
       "    <tr style=\"text-align: right;\">\n",
       "      <th></th>\n",
       "      <th>PassengerId</th>\n",
       "      <th>Pclass</th>\n",
       "      <th>Name</th>\n",
       "      <th>Sex</th>\n",
       "      <th>Age</th>\n",
       "      <th>SibSp</th>\n",
       "      <th>Parch</th>\n",
       "      <th>Ticket</th>\n",
       "      <th>Fare</th>\n",
       "      <th>Cabin</th>\n",
       "      <th>Embarked</th>\n",
       "    </tr>\n",
       "  </thead>\n",
       "  <tbody>\n",
       "    <tr>\n",
       "      <th>0</th>\n",
       "      <td>892</td>\n",
       "      <td>3</td>\n",
       "      <td>Kelly, Mr. James</td>\n",
       "      <td>male</td>\n",
       "      <td>34.5</td>\n",
       "      <td>0</td>\n",
       "      <td>0</td>\n",
       "      <td>330911</td>\n",
       "      <td>7.8292</td>\n",
       "      <td>NaN</td>\n",
       "      <td>Q</td>\n",
       "    </tr>\n",
       "    <tr>\n",
       "      <th>1</th>\n",
       "      <td>893</td>\n",
       "      <td>3</td>\n",
       "      <td>Wilkes, Mrs. James (Ellen Needs)</td>\n",
       "      <td>female</td>\n",
       "      <td>47.0</td>\n",
       "      <td>1</td>\n",
       "      <td>0</td>\n",
       "      <td>363272</td>\n",
       "      <td>7.0000</td>\n",
       "      <td>NaN</td>\n",
       "      <td>S</td>\n",
       "    </tr>\n",
       "    <tr>\n",
       "      <th>2</th>\n",
       "      <td>894</td>\n",
       "      <td>2</td>\n",
       "      <td>Myles, Mr. Thomas Francis</td>\n",
       "      <td>male</td>\n",
       "      <td>62.0</td>\n",
       "      <td>0</td>\n",
       "      <td>0</td>\n",
       "      <td>240276</td>\n",
       "      <td>9.6875</td>\n",
       "      <td>NaN</td>\n",
       "      <td>Q</td>\n",
       "    </tr>\n",
       "    <tr>\n",
       "      <th>3</th>\n",
       "      <td>895</td>\n",
       "      <td>3</td>\n",
       "      <td>Wirz, Mr. Albert</td>\n",
       "      <td>male</td>\n",
       "      <td>27.0</td>\n",
       "      <td>0</td>\n",
       "      <td>0</td>\n",
       "      <td>315154</td>\n",
       "      <td>8.6625</td>\n",
       "      <td>NaN</td>\n",
       "      <td>S</td>\n",
       "    </tr>\n",
       "    <tr>\n",
       "      <th>4</th>\n",
       "      <td>896</td>\n",
       "      <td>3</td>\n",
       "      <td>Hirvonen, Mrs. Alexander (Helga E Lindqvist)</td>\n",
       "      <td>female</td>\n",
       "      <td>22.0</td>\n",
       "      <td>1</td>\n",
       "      <td>1</td>\n",
       "      <td>3101298</td>\n",
       "      <td>12.2875</td>\n",
       "      <td>NaN</td>\n",
       "      <td>S</td>\n",
       "    </tr>\n",
       "  </tbody>\n",
       "</table>\n",
       "</div>"
      ],
      "text/plain": [
       "   PassengerId  Pclass                                          Name     Sex  \\\n",
       "0          892       3                              Kelly, Mr. James    male   \n",
       "1          893       3              Wilkes, Mrs. James (Ellen Needs)  female   \n",
       "2          894       2                     Myles, Mr. Thomas Francis    male   \n",
       "3          895       3                              Wirz, Mr. Albert    male   \n",
       "4          896       3  Hirvonen, Mrs. Alexander (Helga E Lindqvist)  female   \n",
       "\n",
       "    Age  SibSp  Parch   Ticket     Fare Cabin Embarked  \n",
       "0  34.5      0      0   330911   7.8292   NaN        Q  \n",
       "1  47.0      1      0   363272   7.0000   NaN        S  \n",
       "2  62.0      0      0   240276   9.6875   NaN        Q  \n",
       "3  27.0      0      0   315154   8.6625   NaN        S  \n",
       "4  22.0      1      1  3101298  12.2875   NaN        S  "
      ]
     },
     "execution_count": 4,
     "metadata": {},
     "output_type": "execute_result"
    }
   ],
   "source": [
    "test.head()"
   ]
  },
  {
   "cell_type": "code",
   "execution_count": 5,
   "id": "29b73197-e99e-49b9-a312-e167638e28bb",
   "metadata": {},
   "outputs": [
    {
     "data": {
      "text/plain": [
       "(891, 12)"
      ]
     },
     "execution_count": 5,
     "metadata": {},
     "output_type": "execute_result"
    }
   ],
   "source": [
    "train.shape"
   ]
  },
  {
   "cell_type": "code",
   "execution_count": 6,
   "id": "321118f6-37c9-45af-ba49-66dcaa1e0c81",
   "metadata": {},
   "outputs": [
    {
     "data": {
      "text/plain": [
       "(418, 11)"
      ]
     },
     "execution_count": 6,
     "metadata": {},
     "output_type": "execute_result"
    }
   ],
   "source": [
    "test.shape"
   ]
  },
  {
   "cell_type": "code",
   "execution_count": 7,
   "id": "1e8ab9a4-2c6e-41d9-9210-c7adb27b611e",
   "metadata": {},
   "outputs": [
    {
     "data": {
      "text/html": [
       "<div>\n",
       "<style scoped>\n",
       "    .dataframe tbody tr th:only-of-type {\n",
       "        vertical-align: middle;\n",
       "    }\n",
       "\n",
       "    .dataframe tbody tr th {\n",
       "        vertical-align: top;\n",
       "    }\n",
       "\n",
       "    .dataframe thead th {\n",
       "        text-align: right;\n",
       "    }\n",
       "</style>\n",
       "<table border=\"1\" class=\"dataframe\">\n",
       "  <thead>\n",
       "    <tr style=\"text-align: right;\">\n",
       "      <th></th>\n",
       "      <th>Sex</th>\n",
       "      <th>Survived</th>\n",
       "    </tr>\n",
       "  </thead>\n",
       "  <tbody>\n",
       "    <tr>\n",
       "      <th>0</th>\n",
       "      <td>female</td>\n",
       "      <td>0.742038</td>\n",
       "    </tr>\n",
       "    <tr>\n",
       "      <th>1</th>\n",
       "      <td>male</td>\n",
       "      <td>0.188908</td>\n",
       "    </tr>\n",
       "  </tbody>\n",
       "</table>\n",
       "</div>"
      ],
      "text/plain": [
       "      Sex  Survived\n",
       "0  female  0.742038\n",
       "1    male  0.188908"
      ]
     },
     "execution_count": 7,
     "metadata": {},
     "output_type": "execute_result"
    }
   ],
   "source": [
    "train[['Sex', 'Survived']].groupby('Sex', as_index = False).mean().sort_values(by = 'Survived', ascending = False)"
   ]
  },
  {
   "cell_type": "code",
   "execution_count": 8,
   "id": "ff056442-f801-4959-a5a5-a120aabb168b",
   "metadata": {},
   "outputs": [
    {
     "data": {
      "text/plain": [
       "Text(0.5, 1.0, 'Survival Probability by Gender')"
      ]
     },
     "execution_count": 8,
     "metadata": {},
     "output_type": "execute_result"
    },
    {
     "data": {
      "image/png": "[encoded data removed]",
      "text/plain": [
       "<Figure size 640x480 with 1 Axes>"
      ]
     },
     "metadata": {},
     "output_type": "display_data"
    }
   ],
   "source": [
    "sns.barplot(x = 'Sex', y ='Survived', data = train)\n",
    "plt.ylabel('Survival Probability')\n",
    "plt.title('Survival Probability by Gender')"
   ]
  },
  {
   "cell_type": "code",
   "execution_count": 9,
   "id": "bba6f8a3-ea63-4a46-8c37-9ead262de7e2",
   "metadata": {},
   "outputs": [
    {
     "data": {
      "text/plain": [
       "Text(0.5, 1.0, 'Survival Probability by Passenger Class')"
      ]
     },
     "execution_count": 9,
     "metadata": {},
     "output_type": "execute_result"
    },
    {
     "data": {
      "image/png": "[encoded data removed]",
      "text/plain": [
       "<Figure size 640x480 with 1 Axes>"
      ]
     },
     "metadata": {},
     "output_type": "display_data"
    }
   ],
   "source": [
    "sns.barplot(x = 'Pclass', y ='Survived', data = train)\n",
    "plt.ylabel('Survival Probability')\n",
    "plt.title('Survival Probability by Passenger Class')"
   ]
  },
  {
   "cell_type": "code",
   "execution_count": 10,
   "id": "6b6ecc3b-559e-49d9-ab1f-f6c9f89d024f",
   "metadata": {},
   "outputs": [
    {
     "data": {
      "text/html": [
       "<div>\n",
       "<style scoped>\n",
       "    .dataframe tbody tr th:only-of-type {\n",
       "        vertical-align: middle;\n",
       "    }\n",
       "\n",
       "    .dataframe tbody tr th {\n",
       "        vertical-align: top;\n",
       "    }\n",
       "\n",
       "    .dataframe thead th {\n",
       "        text-align: right;\n",
       "    }\n",
       "</style>\n",
       "<table border=\"1\" class=\"dataframe\">\n",
       "  <thead>\n",
       "    <tr style=\"text-align: right;\">\n",
       "      <th></th>\n",
       "      <th>Embarked</th>\n",
       "      <th>Survived</th>\n",
       "    </tr>\n",
       "  </thead>\n",
       "  <tbody>\n",
       "    <tr>\n",
       "      <th>0</th>\n",
       "      <td>C</td>\n",
       "      <td>0.553571</td>\n",
       "    </tr>\n",
       "    <tr>\n",
       "      <th>1</th>\n",
       "      <td>Q</td>\n",
       "      <td>0.389610</td>\n",
       "    </tr>\n",
       "    <tr>\n",
       "      <th>2</th>\n",
       "      <td>S</td>\n",
       "      <td>0.336957</td>\n",
       "    </tr>\n",
       "  </tbody>\n",
       "</table>\n",
       "</div>"
      ],
      "text/plain": [
       "  Embarked  Survived\n",
       "0        C  0.553571\n",
       "1        Q  0.389610\n",
       "2        S  0.336957"
      ]
     },
     "execution_count": 10,
     "metadata": {},
     "output_type": "execute_result"
    }
   ],
   "source": [
    "train[['Embarked', 'Survived']].groupby(['Embarked'], as_index = False).mean().sort_values(by = 'Survived', ascending = False)"
   ]
  },
  {
   "cell_type": "code",
   "execution_count": 11,
   "id": "7d8d5148-8920-4a4f-b78c-829344c1b2cf",
   "metadata": {},
   "outputs": [
    {
     "data": {
      "text/plain": [
       "Text(0.5, 1.0, 'Survival Probability by Point of Embarkation')"
      ]
     },
     "execution_count": 11,
     "metadata": {},
     "output_type": "execute_result"
    },
    {
     "data": {
      "image/png": "[encoded data removed]",
      "text/plain": [
       "<Figure size 640x480 with 1 Axes>"
      ]
     },
     "metadata": {},
     "output_type": "display_data"
    }
   ],
   "source": [
    "sns.barplot(x = 'Embarked', y ='Survived', data = train)\n",
    "plt.ylabel('Survival Probability')\n",
    "plt.title('Survival Probability by Point of Embarkation')"
   ]
  },
  {
   "cell_type": "code",
   "execution_count": 12,
   "id": "183520c5-acbb-459d-a9e9-1d6f3bfd43c6",
   "metadata": {},
   "outputs": [
    {
     "data": {
      "text/plain": [
       "<seaborn.axisgrid.FacetGrid at 0x16159eb3290>"
      ]
     },
     "execution_count": 12,
     "metadata": {},
     "output_type": "execute_result"
    },
    {
     "data": {
      "image/png": "[encoded data removed]",
      "text/plain": [
       "<Figure size 600x300 with 2 Axes>"
      ]
     },
     "metadata": {},
     "output_type": "display_data"
    }
   ],
   "source": [
    "g = sns.FacetGrid(train, col = 'Survived')\n",
    "g.map(sns.histplot, 'Age')"
   ]
  },
  {
   "cell_type": "code",
   "execution_count": 13,
   "id": "1da2729d-222d-4d02-b23e-980792dcbbd2",
   "metadata": {},
   "outputs": [
    {
     "data": {
      "text/plain": [
       "Text(0.5, 1.0, 'Passenger Age Distribution by Survival')"
      ]
     },
     "execution_count": 13,
     "metadata": {},
     "output_type": "execute_result"
    },
    {
     "data": {
      "image/png": "[encoded data removed]",
      "text/plain": [
       "<Figure size 640x480 with 1 Axes>"
      ]
     },
     "metadata": {},
     "output_type": "display_data"
    }
   ],
   "source": [
    "sns.kdeplot(train['Age'][train['Survived'] == 0], label = 'Did not survive')\n",
    "sns.kdeplot(train['Age'][train['Survived'] == 1], label = 'Survived')\n",
    "plt.xlabel('Age')\n",
    "plt.title('Passenger Age Distribution by Survival')"
   ]
  },
  {
   "cell_type": "code",
   "execution_count": 14,
   "id": "841c214c-2cb1-428b-b908-94c17e0e137a",
   "metadata": {},
   "outputs": [],
   "source": [
    "full_data = pd.concat([train, test], axis=0, ignore_index=True)"
   ]
  },
  {
   "cell_type": "code",
   "execution_count": 15,
   "id": "b71e0541-b62e-4c0f-afc5-e50273975543",
   "metadata": {},
   "outputs": [],
   "source": [
    "full_data = full_data.drop(['PassengerId', 'Name', 'Ticket', 'Cabin'], axis=1)"
   ]
  },
  {
   "cell_type": "code",
   "execution_count": 16,
   "id": "d3e3e29d-74ef-4061-b1a9-d09af333e06d",
   "metadata": {},
   "outputs": [
    {
     "data": {
      "text/plain": [
       "PassengerId      0\n",
       "Survived         0\n",
       "Pclass           0\n",
       "Name             0\n",
       "Sex              0\n",
       "Age            177\n",
       "SibSp            0\n",
       "Parch            0\n",
       "Ticket           0\n",
       "Fare             0\n",
       "Cabin          687\n",
       "Embarked         2\n",
       "dtype: int64"
      ]
     },
     "execution_count": 16,
     "metadata": {},
     "output_type": "execute_result"
    }
   ],
   "source": [
    "train.isnull().sum()"
   ]
  },
  {
   "cell_type": "code",
   "execution_count": 17,
   "id": "c06b50d6-568e-451d-9b50-d06a154b4c59",
   "metadata": {},
   "outputs": [
    {
     "data": {
      "text/plain": [
       "PassengerId      0\n",
       "Pclass           0\n",
       "Name             0\n",
       "Sex              0\n",
       "Age             86\n",
       "SibSp            0\n",
       "Parch            0\n",
       "Ticket           0\n",
       "Fare             1\n",
       "Cabin          327\n",
       "Embarked         0\n",
       "dtype: int64"
      ]
     },
     "execution_count": 17,
     "metadata": {},
     "output_type": "execute_result"
    }
   ],
   "source": [
    "test.isnull().sum()"
   ]
  },
  {
   "cell_type": "code",
   "execution_count": 18,
   "id": "23db4570-05b1-4a16-a2c3-89562bb55cd9",
   "metadata": {},
   "outputs": [],
   "source": [
    "full_data['Age'].fillna(full_data['Age'].median(), inplace=True)\n",
    "full_data['Fare'].fillna(full_data['Fare'].median(), inplace=True)\n",
    "full_data['Embarked'].fillna(full_data['Embarked'].mode()[0], inplace=True)"
   ]
  },
  {
   "cell_type": "code",
   "execution_count": 19,
   "id": "f83af540-f460-42f6-96de-3616bc674890",
   "metadata": {},
   "outputs": [],
   "source": [
    "full_data['Sex'] = full_data['Sex'].map({'female': 0, 'male': 1})\n",
    "full_data = pd.get_dummies(full_data, columns=['Pclass', 'Embarked'], drop_first=True)"
   ]
  },
  {
   "cell_type": "code",
   "execution_count": 20,
   "id": "b56e6bef-bc56-4e0c-9232-d58e31b65f36",
   "metadata": {},
   "outputs": [],
   "source": [
    "# Split the data into features (X) and target (y)\n",
    "X_train = full_data.loc[0:train.shape[0]-1].drop('Survived', axis=1)\n",
    "y_train = full_data.loc[0:train.shape[0]-1]['Survived']\n",
    "X_test = full_data.loc[train.shape[0]:].drop('Survived', axis=1)"
   ]
  },
  {
   "cell_type": "code",
   "execution_count": 21,
   "id": "fb5ad507-ec5a-47f8-8fe4-a66efd4e14ca",
   "metadata": {
    "scrolled": true
   },
   "outputs": [
    {
     "data": {
      "text/html": [
       "<div>\n",
       "<style scoped>\n",
       "    .dataframe tbody tr th:only-of-type {\n",
       "        vertical-align: middle;\n",
       "    }\n",
       "\n",
       "    .dataframe tbody tr th {\n",
       "        vertical-align: top;\n",
       "    }\n",
       "\n",
       "    .dataframe thead th {\n",
       "        text-align: right;\n",
       "    }\n",
       "</style>\n",
       "<table border=\"1\" class=\"dataframe\">\n",
       "  <thead>\n",
       "    <tr style=\"text-align: right;\">\n",
       "      <th></th>\n",
       "      <th>Sex</th>\n",
       "      <th>Age</th>\n",
       "      <th>SibSp</th>\n",
       "      <th>Parch</th>\n",
       "      <th>Fare</th>\n",
       "      <th>Pclass_2</th>\n",
       "      <th>Pclass_3</th>\n",
       "      <th>Embarked_Q</th>\n",
       "      <th>Embarked_S</th>\n",
       "    </tr>\n",
       "  </thead>\n",
       "  <tbody>\n",
       "    <tr>\n",
       "      <th>0</th>\n",
       "      <td>1</td>\n",
       "      <td>22.0</td>\n",
       "      <td>1</td>\n",
       "      <td>0</td>\n",
       "      <td>7.2500</td>\n",
       "      <td>False</td>\n",
       "      <td>True</td>\n",
       "      <td>False</td>\n",
       "      <td>True</td>\n",
       "    </tr>\n",
       "    <tr>\n",
       "      <th>1</th>\n",
       "      <td>0</td>\n",
       "      <td>38.0</td>\n",
       "      <td>1</td>\n",
       "      <td>0</td>\n",
       "      <td>71.2833</td>\n",
       "      <td>False</td>\n",
       "      <td>False</td>\n",
       "      <td>False</td>\n",
       "      <td>False</td>\n",
       "    </tr>\n",
       "    <tr>\n",
       "      <th>2</th>\n",
       "      <td>0</td>\n",
       "      <td>26.0</td>\n",
       "      <td>0</td>\n",
       "      <td>0</td>\n",
       "      <td>7.9250</td>\n",
       "      <td>False</td>\n",
       "      <td>True</td>\n",
       "      <td>False</td>\n",
       "      <td>True</td>\n",
       "    </tr>\n",
       "    <tr>\n",
       "      <th>3</th>\n",
       "      <td>0</td>\n",
       "      <td>35.0</td>\n",
       "      <td>1</td>\n",
       "      <td>0</td>\n",
       "      <td>53.1000</td>\n",
       "      <td>False</td>\n",
       "      <td>False</td>\n",
       "      <td>False</td>\n",
       "      <td>True</td>\n",
       "    </tr>\n",
       "    <tr>\n",
       "      <th>4</th>\n",
       "      <td>1</td>\n",
       "      <td>35.0</td>\n",
       "      <td>0</td>\n",
       "      <td>0</td>\n",
       "      <td>8.0500</td>\n",
       "      <td>False</td>\n",
       "      <td>True</td>\n",
       "      <td>False</td>\n",
       "      <td>True</td>\n",
       "    </tr>\n",
       "    <tr>\n",
       "      <th>...</th>\n",
       "      <td>...</td>\n",
       "      <td>...</td>\n",
       "      <td>...</td>\n",
       "      <td>...</td>\n",
       "      <td>...</td>\n",
       "      <td>...</td>\n",
       "      <td>...</td>\n",
       "      <td>...</td>\n",
       "      <td>...</td>\n",
       "    </tr>\n",
       "    <tr>\n",
       "      <th>886</th>\n",
       "      <td>1</td>\n",
       "      <td>27.0</td>\n",
       "      <td>0</td>\n",
       "      <td>0</td>\n",
       "      <td>13.0000</td>\n",
       "      <td>True</td>\n",
       "      <td>False</td>\n",
       "      <td>False</td>\n",
       "      <td>True</td>\n",
       "    </tr>\n",
       "    <tr>\n",
       "      <th>887</th>\n",
       "      <td>0</td>\n",
       "      <td>19.0</td>\n",
       "      <td>0</td>\n",
       "      <td>0</td>\n",
       "      <td>30.0000</td>\n",
       "      <td>False</td>\n",
       "      <td>False</td>\n",
       "      <td>False</td>\n",
       "      <td>True</td>\n",
       "    </tr>\n",
       "    <tr>\n",
       "      <th>888</th>\n",
       "      <td>0</td>\n",
       "      <td>28.0</td>\n",
       "      <td>1</td>\n",
       "      <td>2</td>\n",
       "      <td>23.4500</td>\n",
       "      <td>False</td>\n",
       "      <td>True</td>\n",
       "      <td>False</td>\n",
       "      <td>True</td>\n",
       "    </tr>\n",
       "    <tr>\n",
       "      <th>889</th>\n",
       "      <td>1</td>\n",
       "      <td>26.0</td>\n",
       "      <td>0</td>\n",
       "      <td>0</td>\n",
       "      <td>30.0000</td>\n",
       "      <td>False</td>\n",
       "      <td>False</td>\n",
       "      <td>False</td>\n",
       "      <td>False</td>\n",
       "    </tr>\n",
       "    <tr>\n",
       "      <th>890</th>\n",
       "      <td>1</td>\n",
       "      <td>32.0</td>\n",
       "      <td>0</td>\n",
       "      <td>0</td>\n",
       "      <td>7.7500</td>\n",
       "      <td>False</td>\n",
       "      <td>True</td>\n",
       "      <td>True</td>\n",
       "      <td>False</td>\n",
       "    </tr>\n",
       "  </tbody>\n",
       "</table>\n",
       "<p>891 rows × 9 columns</p>\n",
       "</div>"
      ],
      "text/plain": [
       "     Sex   Age  SibSp  Parch     Fare  Pclass_2  Pclass_3  Embarked_Q  \\\n",
       "0      1  22.0      1      0   7.2500     False      True       False   \n",
       "1      0  38.0      1      0  71.2833     False     False       False   \n",
       "2      0  26.0      0      0   7.9250     False      True       False   \n",
       "3      0  35.0      1      0  53.1000     False     False       False   \n",
       "4      1  35.0      0      0   8.0500     False      True       False   \n",
       "..   ...   ...    ...    ...      ...       ...       ...         ...   \n",
       "886    1  27.0      0      0  13.0000      True     False       False   \n",
       "887    0  19.0      0      0  30.0000     False     False       False   \n",
       "888    0  28.0      1      2  23.4500     False      True       False   \n",
       "889    1  26.0      0      0  30.0000     False     False       False   \n",
       "890    1  32.0      0      0   7.7500     False      True        True   \n",
       "\n",
       "     Embarked_S  \n",
       "0          True  \n",
       "1         False  \n",
       "2          True  \n",
       "3          True  \n",
       "4          True  \n",
       "..          ...  \n",
       "886        True  \n",
       "887        True  \n",
       "888        True  \n",
       "889       False  \n",
       "890       False  \n",
       "\n",
       "[891 rows x 9 columns]"
      ]
     },
     "execution_count": 21,
     "metadata": {},
     "output_type": "execute_result"
    }
   ],
   "source": [
    "X_train\n"
   ]
  },
  {
   "cell_type": "code",
   "execution_count": 22,
   "id": "c344c11f-b43d-4029-8e04-fa40e79437a2",
   "metadata": {},
   "outputs": [],
   "source": [
    "X_train, X_val, y_train, y_val = train_test_split(X_train, y_train, test_size=0.2, random_state=50)"
   ]
  },
  {
   "cell_type": "code",
   "execution_count": 23,
   "id": "0487c3e0-5c73-4c04-a8c8-bb064c122e23",
   "metadata": {},
   "outputs": [],
   "source": [
    "scaler = StandardScaler()\n",
    "X_train_scaled = scaler.fit_transform(X_train)\n",
    "X_val_scaled = scaler.transform(X_val)\n",
    "X_test_scaled = scaler.transform(X_test)"
   ]
  },
  {
   "cell_type": "code",
   "execution_count": 24,
   "id": "049c9066-e753-4acf-a1b8-87fbcdd9c9ce",
   "metadata": {},
   "outputs": [
    {
     "name": "stdout",
     "output_type": "stream",
     "text": [
      "WARNING:tensorflow:From C:\\Users\\Admin\\AppData\\Local\\Programs\\Python\\Python311\\Lib\\site-packages\\keras\\src\\backend.py:873: The name tf.get_default_graph is deprecated. Please use tf.compat.v1.get_default_graph instead.\n",
      "\n"
     ]
    }
   ],
   "source": [
    "model = tf.keras.Sequential([\n",
    "    tf.keras.layers.Dense(128, activation='relu', input_shape=(X_train.shape[1],)),\n",
    "    tf.keras.layers.Dropout(0.5),\n",
    "    tf.keras.layers.Dense(64, activation='relu'),\n",
    "    tf.keras.layers.Dropout(0.5),\n",
    "    tf.keras.layers.Dense(32, activation='relu'),\n",
    "    tf.keras.layers.Dropout(0.5),\n",
    "    tf.keras.layers.Dense(16, activation='relu'),\n",
    "    tf.keras.layers.Dropout(0.5),\n",
    "    tf.keras.layers.Dense(1, activation='sigmoid')\n",
    "])\n"
   ]
  },
  {
   "cell_type": "code",
   "execution_count": 25,
   "id": "8b878350-3436-4477-bb87-6c7be146ea1c",
   "metadata": {},
   "outputs": [
    {
     "name": "stdout",
     "output_type": "stream",
     "text": [
      "WARNING:tensorflow:From C:\\Users\\Admin\\AppData\\Local\\Programs\\Python\\Python311\\Lib\\site-packages\\keras\\src\\optimizers\\__init__.py:309: The name tf.train.Optimizer is deprecated. Please use tf.compat.v1.train.Optimizer instead.\n",
      "\n"
     ]
    }
   ],
   "source": [
    "\n",
    "model.compile(optimizer='adam', loss='binary_crossentropy', metrics=['accuracy'])"
   ]
  },
  {
   "cell_type": "code",
   "execution_count": 26,
   "id": "8298c74b-77e4-4d98-af2c-6ef3894b0b91",
   "metadata": {},
   "outputs": [
    {
     "name": "stdout",
     "output_type": "stream",
     "text": [
      "Epoch 1/70\n",
      "WARNING:tensorflow:From C:\\Users\\Admin\\AppData\\Local\\Programs\\Python\\Python311\\Lib\\site-packages\\keras\\src\\utils\\tf_utils.py:492: The name tf.ragged.RaggedTensorValue is deprecated. Please use tf.compat.v1.ragged.RaggedTensorValue instead.\n",
      "\n",
      "WARNING:tensorflow:From C:\\Users\\Admin\\AppData\\Local\\Programs\\Python\\Python311\\Lib\\site-packages\\keras\\src\\engine\\base_layer_utils.py:384: The name tf.executing_eagerly_outside_functions is deprecated. Please use tf.compat.v1.executing_eagerly_outside_functions instead.\n",
      "\n",
      "23/23 [==============================] - 2s 19ms/step - loss: 0.7159 - accuracy: 0.5562 - val_loss: 0.6706 - val_accuracy: 0.5754\n",
      "Epoch 2/70\n",
      "23/23 [==============================] - 0s 3ms/step - loss: 0.6856 - accuracy: 0.5744 - val_loss: 0.6604 - val_accuracy: 0.5642\n",
      "Epoch 3/70\n",
      "23/23 [==============================] - 0s 4ms/step - loss: 0.6569 - accuracy: 0.6166 - val_loss: 0.6489 - val_accuracy: 0.5642\n",
      "Epoch 4/70\n",
      "23/23 [==============================] - 0s 4ms/step - loss: 0.6436 - accuracy: 0.6250 - val_loss: 0.6275 - val_accuracy: 0.5642\n",
      "Epoch 5/70\n",
      "23/23 [==============================] - 0s 3ms/step - loss: 0.6253 - accuracy: 0.6573 - val_loss: 0.6064 - val_accuracy: 0.5754\n",
      "Epoch 6/70\n",
      "23/23 [==============================] - 0s 3ms/step - loss: 0.6074 - accuracy: 0.6433 - val_loss: 0.5918 - val_accuracy: 0.5810\n",
      "Epoch 7/70\n",
      "23/23 [==============================] - 0s 3ms/step - loss: 0.6088 - accuracy: 0.6685 - val_loss: 0.5819 - val_accuracy: 0.7207\n",
      "Epoch 8/70\n",
      "23/23 [==============================] - 0s 4ms/step - loss: 0.6109 - accuracy: 0.6728 - val_loss: 0.5713 - val_accuracy: 0.7709\n",
      "Epoch 9/70\n",
      "23/23 [==============================] - 0s 3ms/step - loss: 0.5821 - accuracy: 0.6770 - val_loss: 0.5520 - val_accuracy: 0.8045\n",
      "Epoch 10/70\n",
      "23/23 [==============================] - 0s 3ms/step - loss: 0.5739 - accuracy: 0.7037 - val_loss: 0.5391 - val_accuracy: 0.8156\n",
      "Epoch 11/70\n",
      "23/23 [==============================] - 0s 3ms/step - loss: 0.5533 - accuracy: 0.7121 - val_loss: 0.5269 - val_accuracy: 0.8101\n",
      "Epoch 12/70\n",
      "23/23 [==============================] - 0s 4ms/step - loss: 0.5678 - accuracy: 0.7374 - val_loss: 0.5127 - val_accuracy: 0.7933\n",
      "Epoch 13/70\n",
      "23/23 [==============================] - 0s 4ms/step - loss: 0.5431 - accuracy: 0.7135 - val_loss: 0.5034 - val_accuracy: 0.8045\n",
      "Epoch 14/70\n",
      "23/23 [==============================] - 0s 3ms/step - loss: 0.5342 - accuracy: 0.7402 - val_loss: 0.4888 - val_accuracy: 0.7989\n",
      "Epoch 15/70\n",
      "23/23 [==============================] - 0s 3ms/step - loss: 0.5155 - accuracy: 0.7388 - val_loss: 0.4778 - val_accuracy: 0.8101\n",
      "Epoch 16/70\n",
      "23/23 [==============================] - 0s 3ms/step - loss: 0.5478 - accuracy: 0.7444 - val_loss: 0.4768 - val_accuracy: 0.8045\n",
      "Epoch 17/70\n",
      "23/23 [==============================] - 0s 3ms/step - loss: 0.4906 - accuracy: 0.7711 - val_loss: 0.4696 - val_accuracy: 0.7989\n",
      "Epoch 18/70\n",
      "23/23 [==============================] - 0s 3ms/step - loss: 0.5059 - accuracy: 0.7669 - val_loss: 0.4654 - val_accuracy: 0.8045\n",
      "Epoch 19/70\n",
      "23/23 [==============================] - 0s 3ms/step - loss: 0.5001 - accuracy: 0.7725 - val_loss: 0.4692 - val_accuracy: 0.8045\n",
      "Epoch 20/70\n",
      "23/23 [==============================] - 0s 5ms/step - loss: 0.4972 - accuracy: 0.7697 - val_loss: 0.4618 - val_accuracy: 0.8101\n",
      "Epoch 21/70\n",
      "23/23 [==============================] - 0s 3ms/step - loss: 0.4967 - accuracy: 0.7626 - val_loss: 0.4537 - val_accuracy: 0.7989\n",
      "Epoch 22/70\n",
      "23/23 [==============================] - 0s 3ms/step - loss: 0.4712 - accuracy: 0.7767 - val_loss: 0.4471 - val_accuracy: 0.8045\n",
      "Epoch 23/70\n",
      "23/23 [==============================] - 0s 3ms/step - loss: 0.4793 - accuracy: 0.7907 - val_loss: 0.4518 - val_accuracy: 0.8045\n",
      "Epoch 24/70\n",
      "23/23 [==============================] - 0s 3ms/step - loss: 0.4958 - accuracy: 0.7725 - val_loss: 0.4544 - val_accuracy: 0.7989\n",
      "Epoch 25/70\n",
      "23/23 [==============================] - 0s 4ms/step - loss: 0.4923 - accuracy: 0.7767 - val_loss: 0.4556 - val_accuracy: 0.8045\n",
      "Epoch 26/70\n",
      "23/23 [==============================] - 0s 3ms/step - loss: 0.4913 - accuracy: 0.7612 - val_loss: 0.4550 - val_accuracy: 0.8045\n",
      "Epoch 27/70\n",
      "23/23 [==============================] - 0s 3ms/step - loss: 0.4906 - accuracy: 0.7963 - val_loss: 0.4529 - val_accuracy: 0.8045\n",
      "Epoch 28/70\n",
      "23/23 [==============================] - 0s 4ms/step - loss: 0.4874 - accuracy: 0.8020 - val_loss: 0.4500 - val_accuracy: 0.7933\n",
      "Epoch 29/70\n",
      "23/23 [==============================] - 0s 4ms/step - loss: 0.4623 - accuracy: 0.7949 - val_loss: 0.4484 - val_accuracy: 0.7933\n",
      "Epoch 30/70\n",
      "23/23 [==============================] - 0s 4ms/step - loss: 0.4921 - accuracy: 0.8104 - val_loss: 0.4419 - val_accuracy: 0.7989\n",
      "Epoch 31/70\n",
      "23/23 [==============================] - 0s 3ms/step - loss: 0.4520 - accuracy: 0.8006 - val_loss: 0.4433 - val_accuracy: 0.8101\n",
      "Epoch 32/70\n",
      "23/23 [==============================] - 0s 3ms/step - loss: 0.4823 - accuracy: 0.8006 - val_loss: 0.4439 - val_accuracy: 0.7989\n",
      "Epoch 33/70\n",
      "23/23 [==============================] - 0s 3ms/step - loss: 0.4566 - accuracy: 0.7963 - val_loss: 0.4498 - val_accuracy: 0.8101\n",
      "Epoch 34/70\n",
      "23/23 [==============================] - 0s 3ms/step - loss: 0.4579 - accuracy: 0.7921 - val_loss: 0.4470 - val_accuracy: 0.8045\n",
      "Epoch 35/70\n",
      "23/23 [==============================] - 0s 3ms/step - loss: 0.4674 - accuracy: 0.8034 - val_loss: 0.4409 - val_accuracy: 0.8101\n",
      "Epoch 36/70\n",
      "23/23 [==============================] - 0s 3ms/step - loss: 0.4579 - accuracy: 0.7963 - val_loss: 0.4434 - val_accuracy: 0.8156\n",
      "Epoch 37/70\n",
      "23/23 [==============================] - 0s 3ms/step - loss: 0.4421 - accuracy: 0.8104 - val_loss: 0.4403 - val_accuracy: 0.8156\n",
      "Epoch 38/70\n",
      "23/23 [==============================] - 0s 3ms/step - loss: 0.4373 - accuracy: 0.8188 - val_loss: 0.4367 - val_accuracy: 0.8101\n",
      "Epoch 39/70\n",
      "23/23 [==============================] - 0s 3ms/step - loss: 0.4734 - accuracy: 0.7963 - val_loss: 0.4393 - val_accuracy: 0.8045\n",
      "Epoch 40/70\n",
      "23/23 [==============================] - 0s 3ms/step - loss: 0.4746 - accuracy: 0.7978 - val_loss: 0.4407 - val_accuracy: 0.7989\n",
      "Epoch 41/70\n",
      "23/23 [==============================] - 0s 3ms/step - loss: 0.4576 - accuracy: 0.8104 - val_loss: 0.4474 - val_accuracy: 0.8101\n",
      "Epoch 42/70\n",
      "23/23 [==============================] - 0s 3ms/step - loss: 0.4515 - accuracy: 0.8034 - val_loss: 0.4485 - val_accuracy: 0.8156\n",
      "Epoch 43/70\n",
      "23/23 [==============================] - 0s 3ms/step - loss: 0.4469 - accuracy: 0.8034 - val_loss: 0.4428 - val_accuracy: 0.8156\n",
      "Epoch 44/70\n",
      "23/23 [==============================] - 0s 3ms/step - loss: 0.4650 - accuracy: 0.8062 - val_loss: 0.4410 - val_accuracy: 0.8101\n",
      "Epoch 45/70\n",
      "23/23 [==============================] - 0s 3ms/step - loss: 0.4683 - accuracy: 0.8062 - val_loss: 0.4418 - val_accuracy: 0.8156\n",
      "Epoch 46/70\n",
      "23/23 [==============================] - 0s 3ms/step - loss: 0.4524 - accuracy: 0.8301 - val_loss: 0.4409 - val_accuracy: 0.8101\n",
      "Epoch 47/70\n",
      "23/23 [==============================] - 0s 3ms/step - loss: 0.4754 - accuracy: 0.8258 - val_loss: 0.4387 - val_accuracy: 0.8101\n",
      "Epoch 48/70\n",
      "23/23 [==============================] - 0s 3ms/step - loss: 0.4621 - accuracy: 0.8062 - val_loss: 0.4432 - val_accuracy: 0.8212\n",
      "Epoch 49/70\n",
      "23/23 [==============================] - 0s 3ms/step - loss: 0.4493 - accuracy: 0.8132 - val_loss: 0.4452 - val_accuracy: 0.8045\n",
      "Epoch 50/70\n",
      "23/23 [==============================] - 0s 3ms/step - loss: 0.4645 - accuracy: 0.7992 - val_loss: 0.4463 - val_accuracy: 0.8045\n",
      "Epoch 51/70\n",
      "23/23 [==============================] - 0s 3ms/step - loss: 0.4372 - accuracy: 0.8202 - val_loss: 0.4444 - val_accuracy: 0.8212\n",
      "Epoch 52/70\n",
      "23/23 [==============================] - 0s 3ms/step - loss: 0.4180 - accuracy: 0.8244 - val_loss: 0.4412 - val_accuracy: 0.8156\n",
      "Epoch 53/70\n",
      "23/23 [==============================] - 0s 3ms/step - loss: 0.4468 - accuracy: 0.8315 - val_loss: 0.4380 - val_accuracy: 0.8101\n",
      "Epoch 54/70\n",
      "23/23 [==============================] - 0s 3ms/step - loss: 0.4201 - accuracy: 0.8244 - val_loss: 0.4409 - val_accuracy: 0.8156\n",
      "Epoch 55/70\n",
      "23/23 [==============================] - 0s 3ms/step - loss: 0.4658 - accuracy: 0.8329 - val_loss: 0.4385 - val_accuracy: 0.8101\n",
      "Epoch 56/70\n",
      "23/23 [==============================] - 0s 3ms/step - loss: 0.4485 - accuracy: 0.8132 - val_loss: 0.4428 - val_accuracy: 0.8212\n",
      "Epoch 57/70\n",
      "23/23 [==============================] - 0s 3ms/step - loss: 0.4693 - accuracy: 0.8188 - val_loss: 0.4445 - val_accuracy: 0.8212\n",
      "Epoch 58/70\n",
      "23/23 [==============================] - 0s 3ms/step - loss: 0.4505 - accuracy: 0.8188 - val_loss: 0.4459 - val_accuracy: 0.8156\n",
      "Epoch 59/70\n",
      "23/23 [==============================] - 0s 3ms/step - loss: 0.4203 - accuracy: 0.8329 - val_loss: 0.4445 - val_accuracy: 0.8212\n",
      "Epoch 60/70\n",
      "23/23 [==============================] - 0s 3ms/step - loss: 0.4181 - accuracy: 0.8301 - val_loss: 0.4509 - val_accuracy: 0.8212\n",
      "Epoch 61/70\n",
      "23/23 [==============================] - 0s 3ms/step - loss: 0.4514 - accuracy: 0.8104 - val_loss: 0.4416 - val_accuracy: 0.8268\n",
      "Epoch 62/70\n",
      "23/23 [==============================] - 0s 3ms/step - loss: 0.4440 - accuracy: 0.8188 - val_loss: 0.4415 - val_accuracy: 0.8156\n",
      "Epoch 63/70\n",
      "23/23 [==============================] - 0s 3ms/step - loss: 0.4336 - accuracy: 0.8272 - val_loss: 0.4432 - val_accuracy: 0.8212\n",
      "Epoch 64/70\n",
      "23/23 [==============================] - 0s 3ms/step - loss: 0.4314 - accuracy: 0.8230 - val_loss: 0.4417 - val_accuracy: 0.8156\n",
      "Epoch 65/70\n",
      "23/23 [==============================] - 0s 3ms/step - loss: 0.4299 - accuracy: 0.8090 - val_loss: 0.4429 - val_accuracy: 0.8268\n",
      "Epoch 66/70\n",
      "23/23 [==============================] - 0s 3ms/step - loss: 0.4574 - accuracy: 0.8216 - val_loss: 0.4419 - val_accuracy: 0.8268\n",
      "Epoch 67/70\n",
      "23/23 [==============================] - 0s 3ms/step - loss: 0.4156 - accuracy: 0.8188 - val_loss: 0.4443 - val_accuracy: 0.8212\n",
      "Epoch 68/70\n",
      "23/23 [==============================] - 0s 3ms/step - loss: 0.4250 - accuracy: 0.8371 - val_loss: 0.4436 - val_accuracy: 0.8268\n",
      "Epoch 69/70\n",
      "23/23 [==============================] - 0s 3ms/step - loss: 0.4258 - accuracy: 0.8160 - val_loss: 0.4469 - val_accuracy: 0.8156\n",
      "Epoch 70/70\n",
      "23/23 [==============================] - 0s 4ms/step - loss: 0.4301 - accuracy: 0.8244 - val_loss: 0.4468 - val_accuracy: 0.8156\n"
     ]
    },
    {
     "data": {
      "text/plain": [
       "<keras.src.callbacks.History at 0x1615d1e0e90>"
      ]
     },
     "execution_count": 26,
     "metadata": {},
     "output_type": "execute_result"
    }
   ],
   "source": [
    "# Train the model\n",
    "model.fit(X_train_scaled, y_train, epochs=70, batch_size=32, validation_data=(X_val_scaled, y_val))"
   ]
  },
  {
   "cell_type": "code",
   "execution_count": 27,
   "id": "49bc3a8e-78c2-4adf-a373-27aaa24926d0",
   "metadata": {},
   "outputs": [
    {
     "name": "stdout",
     "output_type": "stream",
     "text": [
      "6/6 [==============================] - 0s 4ms/step - loss: 0.4468 - accuracy: 0.8156\n",
      "Validation Loss: 0.4468, Validation Accuracy: 0.8156\n"
     ]
    }
   ],
   "source": [
    "\n",
    "val_loss, val_accuracy = model.evaluate(X_val_scaled, y_val)\n",
    "print(f'Validation Loss: {val_loss:.4f}, Validation Accuracy: {val_accuracy:.4f}')"
   ]
  },
  {
   "cell_type": "code",
   "execution_count": 28,
   "id": "4a7c8b9e-845a-4a9d-ad6d-592c00bb25b1",
   "metadata": {},
   "outputs": [
    {
     "name": "stdout",
     "output_type": "stream",
     "text": [
      "14/14 [==============================] - 0s 912us/step\n"
     ]
    }
   ],
   "source": [
    "# Predict survival on the test set\n",
    "predictions = model.predict(X_test_scaled)"
   ]
  },
  {
   "cell_type": "code",
   "execution_count": 29,
   "id": "84b99313-9524-40de-af17-19d765b89788",
   "metadata": {},
   "outputs": [
    {
     "name": "stdout",
     "output_type": "stream",
     "text": [
      "1/1 [==============================] - 0s 15ms/step\n",
      "Sample Input:\n",
      "     Sex  Age  SibSp  Parch  Fare  Pclass_2  Pclass_3  Embarked_Q  Embarked_S\n",
      "567    1   25      1      0    30         0         1           0           1\n",
      "\n",
      "Predicted Class (Survived=1, Not Survived=0): 0\n"
     ]
    }
   ],
   "source": [
    "sample_input = X_train.iloc[0:1].copy()\n",
    "\n",
    "sample_input['Pclass_2'] = 0  \n",
    "sample_input['Pclass_3'] = 1  \n",
    "sample_input['Sex'] = 1       \n",
    "sample_input['Age'] = 25      \n",
    "sample_input['SibSp'] = 1     \n",
    "sample_input['Parch'] = 0     \n",
    "sample_input['Fare'] = 30     \n",
    "sample_input['Embarked_Q'] = 0  \n",
    "sample_input['Embarked_S'] = 1 \n",
    "sample_input_scaled = scaler.transform(sample_input)\n",
    "\n",
    "\n",
    "sample_input_reshaped = sample_input_scaled.reshape(1, -1)\n",
    "\n",
    "# Make a prediction\n",
    "prediction = model.predict(sample_input_reshaped)\n",
    "predicted_class = np.round(prediction).astype(int)\n",
    "\n",
    "print(\"Sample Input:\")\n",
    "print(sample_input)\n",
    "print(\"\\nPredicted Class (Survived=1, Not Survived=0):\", predicted_class[0, 0])\n"
   ]
  }
 ],
 "metadata": {
  "kernelspec": {
   "display_name": "Python 3 (ipykernel)",
   "language": "python",
   "name": "python3"
  },
  "language_info": {
   "codemirror_mode": {
    "name": "ipython",
    "version": 3
   },
   "file_extension": ".py",
   "mimetype": "text/x-python",
   "name": "python",
   "nbconvert_exporter": "python",
   "pygments_lexer": "ipython3",
   "version": "3.11.4"
  }
 },
 "nbformat": 4,
 "nbformat_minor": 5
}
